{
 "cells": [
  {
   "cell_type": "code",
   "execution_count": 1,
   "id": "foreign-blues",
   "metadata": {},
   "outputs": [],
   "source": [
    "import torch\n",
    "from torch import nn\n",
    "from kornia.filters import laplacian, sobel\n",
    "from torch.utils.data import Dataset\n",
    "from torchvision.io import read_image"
   ]
  },
  {
   "cell_type": "code",
   "execution_count": 2,
   "id": "latest-corruption",
   "metadata": {},
   "outputs": [],
   "source": [
    "'''\n",
    "SIREN needs a specific way of initialization for the\n",
    "Layers\n",
    "#code inspired from youtuber mildlyoverfitted\n",
    "'''\n",
    "\n",
    "def initializer(weight: torch.cuda.FloatTensor if torch.cuda.is_available() else torch.FloatTensor,\n",
    "                is_first: bool = True,\n",
    "                omega: float = 1.,\n",
    "                c:flaot = 6.\n",
    "               ):\n",
    "    '''\n",
    "    Intializes the wrights of linear layer\n",
    "    Weights are based on the paper(supplimentary page 5) presented by SIREN, choose the distribution in range\n",
    "    For first layer:\n",
    "        uniform distribution in the range: (-1, 1):\n",
    "    For rest of layers:\n",
    "        bound = sqrt(c / (features_in * (omega**2)))\n",
    "        uniform distribution in the range: [-bound, bound]\n",
    "        \n",
    "    params:\n",
    "            weight: torch.FloatTensor\n",
    "            ----------------> Initialzing weight for Linear layer\n",
    "            is_first: bool\n",
    "            ----------------> If true, the layer is first layer in the network\n",
    "            omega: float\n",
    "            ----------------> hyperparameter\n",
    "            c: float\n",
    "            ---------------->hyperparameter\n",
    "    '''\n",
    "    \n",
    "    with torch.no_grad():\n",
    "        bound = 1 / weight.size()[1] if is_first else torch.sqrt(c / weight.size()[1]) / omega\n",
    "        weight.uniform_(-bound, bound)\n",
    "    "
   ]
  },
  {
   "cell_type": "code",
   "execution_count": 3,
   "id": "equivalent-matthew",
   "metadata": {},
   "outputs": [],
   "source": [
    "class siren_layer(nn.Module):\n",
    "    '''\n",
    "    SIREN LAYER - Sinusoidal Representation Network Layer\n",
    "    params:\n",
    "        in_features: int\n",
    "            #input_features\n",
    "        ------------------\n",
    "        out_features: int\n",
    "            #out_features\n",
    "        ------------------\n",
    "        bias: bool\n",
    "            True->Needs Bias ; False->Do not Need Bias\n",
    "        ------------------\n",
    "        is_first: bool\n",
    "            True->Is the fisr layers; False->Not First Layer\n",
    "            Has influence on the initialization of the layer\n",
    "        ------------------\n",
    "        omega: flaot\n",
    "            Hyperparameter helpful in initialization\n",
    "        ------------------\n",
    "        c: int\n",
    "            Hyperparameter helful in initialization\n",
    "        ------------------\n",
    "        custom_initalizationg_function: function\n",
    "            Send custom initialization function accepting a Tensor for initializing it        \n",
    "    '''\n",
    "    def __init__(\n",
    "                    self, \n",
    "                    in_features: int,\n",
    "                    out_features: int,\n",
    "                    bias: bool = True,\n",
    "                    is_first: bool = False,\n",
    "                    omega: float = 30,\n",
    "                    c: float = 6,\n",
    "                    custom_initalizationg_function: callable = None\n",
    "                ):\n",
    "        super(siren_layer).__init__()\n",
    "        \n",
    "        self.omega, self.c = omega, c\n",
    "        \n",
    "        self.linear = nn.Linear(\n",
    "                                    in_features = in_features,\n",
    "                                    out_features = out_features,\n",
    "                                    bias = bias\n",
    "                                )\n",
    "        initializer(self.linear.weight, is_first, omega, c) if custom_initalizationg_function is None else custom_initalizationg_function(self.linear.weight)\n",
    "    \n",
    "    def forward(self, x):\n",
    "        '''\n",
    "        sin( omega * Linear(input))\n",
    "        '''\n",
    "        ##### LOOK AT THIS LATER #####\n",
    "        return torch.sin(self.omega  * torch.dot(self.linear.weight, x) + self.linear.bias)"
   ]
  },
  {
   "cell_type": "code",
   "execution_count": 8,
   "id": "demanding-confusion",
   "metadata": {},
   "outputs": [
    {
     "ename": "AttributeError",
     "evalue": "module 'torch.cuda' has no attribute 'Tensor'",
     "output_type": "error",
     "traceback": [
      "\u001b[0;31m---------------------------------------------------------------------------\u001b[0m",
      "\u001b[0;31mAttributeError\u001b[0m                            Traceback (most recent call last)",
      "\u001b[0;32m<ipython-input-8-1fffe1b3e8d1>\u001b[0m in \u001b[0;36m<module>\u001b[0;34m\u001b[0m\n\u001b[0;32m----> 1\u001b[0;31m \u001b[0mtorch\u001b[0m\u001b[0;34m.\u001b[0m\u001b[0mcuda\u001b[0m\u001b[0;34m.\u001b[0m\u001b[0mTensor\u001b[0m\u001b[0;34m(\u001b[0m\u001b[0mtorch\u001b[0m\u001b[0;34m.\u001b[0m\u001b[0mcuda\u001b[0m\u001b[0;34m.\u001b[0m\u001b[0mFloatTensor\u001b[0m\u001b[0;34m(\u001b[0m\u001b[0mt\u001b[0m\u001b[0;34m.\u001b[0m\u001b[0mcuda\u001b[0m\u001b[0;34m(\u001b[0m\u001b[0;34m)\u001b[0m\u001b[0;34m)\u001b[0m\u001b[0;34m)\u001b[0m\u001b[0;34m\u001b[0m\u001b[0;34m\u001b[0m\u001b[0m\n\u001b[0m",
      "\u001b[0;31mAttributeError\u001b[0m: module 'torch.cuda' has no attribute 'Tensor'"
     ]
    }
   ],
   "source": [
    "class image_siren(nn.Module):\n",
    "    '''\n",
    "    \n",
    "    '''"
   ]
  },
  {
   "cell_type": "code",
   "execution_count": null,
   "id": "invalid-liabilities",
   "metadata": {},
   "outputs": [],
   "source": []
  }
 ],
 "metadata": {
  "kernelspec": {
   "display_name": "Python 3",
   "language": "python",
   "name": "python3"
  },
  "language_info": {
   "codemirror_mode": {
    "name": "ipython",
    "version": 3
   },
   "file_extension": ".py",
   "mimetype": "text/x-python",
   "name": "python",
   "nbconvert_exporter": "python",
   "pygments_lexer": "ipython3",
   "version": "3.8.5"
  }
 },
 "nbformat": 4,
 "nbformat_minor": 5
}
